{
  "nbformat": 4,
  "nbformat_minor": 0,
  "metadata": {
    "colab": {
      "provenance": [],
      "authorship_tag": "ABX9TyPUKiP+l5FCd98Ahf/Jyfeo",
      "include_colab_link": true
    },
    "kernelspec": {
      "name": "python3",
      "display_name": "Python 3"
    },
    "language_info": {
      "name": "python"
    }
  },
  "cells": [
    {
      "cell_type": "markdown",
      "metadata": {
        "id": "view-in-github",
        "colab_type": "text"
      },
      "source": [
        "<a href=\"https://colab.research.google.com/github/2303A51641/23CSBTB29/blob/main/Listtypes.ipynb\" target=\"_parent\"><img src=\"https://colab.research.google.com/assets/colab-badge.svg\" alt=\"Open In Colab\"/></a>"
      ]
    },
    {
      "cell_type": "code",
      "execution_count": null,
      "metadata": {
        "id": "U3w51KoevVGX"
      },
      "outputs": [],
      "source": []
    },
    {
      "cell_type": "markdown",
      "source": [
        "Implement basic Datastructures using Numpy and Pandas"
      ],
      "metadata": {
        "id": "shcuwbuKwR0-"
      }
    },
    {
      "cell_type": "code",
      "source": [
        "lst1=(5,6,7,8,9)\n",
        "print(lst1)\n",
        "print(type(lst1))"
      ],
      "metadata": {
        "colab": {
          "base_uri": "https://localhost:8080/"
        },
        "id": "ScRRnYpszaMS",
        "outputId": "4851079f-1127-46ed-8b75-1bc4b080f4da"
      },
      "execution_count": 1,
      "outputs": [
        {
          "output_type": "stream",
          "name": "stdout",
          "text": [
            "(5, 6, 7, 8, 9)\n",
            "<class 'tuple'>\n"
          ]
        }
      ]
    },
    {
      "cell_type": "code",
      "source": [
        "lst2={5,6,7,8,9}\n",
        "print(lst2)\n",
        "print(type(lst2))"
      ],
      "metadata": {
        "colab": {
          "base_uri": "https://localhost:8080/"
        },
        "id": "8KJR8bstznm5",
        "outputId": "2bc7854c-24b4-431b-8836-0db6c08bb642"
      },
      "execution_count": 2,
      "outputs": [
        {
          "output_type": "stream",
          "name": "stdout",
          "text": [
            "{5, 6, 7, 8, 9}\n",
            "<class 'set'>\n"
          ]
        }
      ]
    },
    {
      "cell_type": "code",
      "source": [
        "lst3=[5,6,7,8,9]\n",
        "print(lst3)\n",
        "print(type(lst3))"
      ],
      "metadata": {
        "colab": {
          "base_uri": "https://localhost:8080/"
        },
        "id": "cKqnvi1GzzYa",
        "outputId": "7c63a3c0-35e9-4dfb-c0f0-009e9b8dd145"
      },
      "execution_count": 3,
      "outputs": [
        {
          "output_type": "stream",
          "name": "stdout",
          "text": [
            "[5, 6, 7, 8, 9]\n",
            "<class 'list'>\n"
          ]
        }
      ]
    },
    {
      "cell_type": "code",
      "source": [
        "lst4={1:\"apple\",2:\"banana\",3:\"cherry\"}\n",
        "print(lst4)\n",
        "print(type(lst4))"
      ],
      "metadata": {
        "colab": {
          "base_uri": "https://localhost:8080/"
        },
        "id": "XWSgBI6Lz_05",
        "outputId": "c3a37082-2e80-4611-c2bd-1b3c28e1d368"
      },
      "execution_count": 4,
      "outputs": [
        {
          "output_type": "stream",
          "name": "stdout",
          "text": [
            "{1: 'apple', 2: 'banana', 3: 'cherry'}\n",
            "<class 'dict'>\n"
          ]
        }
      ]
    },
    {
      "cell_type": "code",
      "source": [
        "lst5=\"welcome to AI-ML Lab\"\n",
        "print(lst5)\n",
        "print(type(lst5))"
      ],
      "metadata": {
        "colab": {
          "base_uri": "https://localhost:8080/"
        },
        "id": "71fdHwqc0ShC",
        "outputId": "c2cbd697-f84f-470b-85e9-8e498d26f8ca"
      },
      "execution_count": 5,
      "outputs": [
        {
          "output_type": "stream",
          "name": "stdout",
          "text": [
            "welcome to AI-ML Lab\n",
            "<class 'str'>\n"
          ]
        }
      ]
    },
    {
      "cell_type": "code",
      "source": [
        "lst6=3.14\n",
        "print(lst6)\n",
        "print(type(lst6))"
      ],
      "metadata": {
        "colab": {
          "base_uri": "https://localhost:8080/"
        },
        "id": "XHcZRUoJ0dRi",
        "outputId": "1ab1137f-8ea9-4655-9172-d6349b9039ed"
      },
      "execution_count": 6,
      "outputs": [
        {
          "output_type": "stream",
          "name": "stdout",
          "text": [
            "3.14\n",
            "<class 'float'>\n"
          ]
        }
      ]
    },
    {
      "cell_type": "code",
      "source": [
        "lst7=5j+8\n",
        "print(lst7)\n",
        "print(type(lst7))"
      ],
      "metadata": {
        "colab": {
          "base_uri": "https://localhost:8080/"
        },
        "id": "H8RRUMWz0mHO",
        "outputId": "1881b585-1a70-4cc4-a36d-a688ffff762b"
      },
      "execution_count": 7,
      "outputs": [
        {
          "output_type": "stream",
          "name": "stdout",
          "text": [
            "(8+5j)\n",
            "<class 'complex'>\n"
          ]
        }
      ]
    }
  ]
}